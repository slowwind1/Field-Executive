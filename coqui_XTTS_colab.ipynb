{
  "cells": [
    {
      "cell_type": "markdown",
      "metadata": {
        "id": "view-in-github",
        "colab_type": "text"
      },
      "source": [
        "<a href=\"https://colab.research.google.com/github/slowwind1/Field-Executive/blob/main/coqui_XTTS_colab.ipynb\" target=\"_parent\"><img src=\"https://colab.research.google.com/assets/colab-badge.svg\" alt=\"Open In Colab\"/></a>"
      ]
    },
    {
      "cell_type": "code",
      "execution_count": 2,
      "metadata": {
        "id": "VjYy0F2gZIPR",
        "colab": {
          "base_uri": "https://localhost:8080/"
        },
        "outputId": "54aa873d-e9a2-4c5d-c6b2-8d371bc04e85"
      },
      "outputs": [
        {
          "output_type": "stream",
          "name": "stdout",
          "text": [
            "Reading package lists... Done\n",
            "Building dependency tree... Done\n",
            "Reading state information... Done\n",
            "The following additional packages will be installed:\n",
            "  python3-pip-whl python3-setuptools-whl\n",
            "The following NEW packages will be installed:\n",
            "  python3-pip-whl python3-setuptools-whl python3.10-venv\n",
            "0 upgraded, 3 newly installed, 0 to remove and 49 not upgraded.\n",
            "Need to get 2,474 kB of archives.\n",
            "After this operation, 2,885 kB of additional disk space will be used.\n",
            "Get:1 http://archive.ubuntu.com/ubuntu jammy-updates/universe amd64 python3-pip-whl all 22.0.2+dfsg-1ubuntu0.5 [1,680 kB]\n",
            "Get:2 http://archive.ubuntu.com/ubuntu jammy-updates/universe amd64 python3-setuptools-whl all 59.6.0-1.2ubuntu0.22.04.2 [788 kB]\n",
            "Get:3 http://archive.ubuntu.com/ubuntu jammy-updates/universe amd64 python3.10-venv amd64 3.10.12-1~22.04.6 [5,722 B]\n",
            "Fetched 2,474 kB in 2s (1,169 kB/s)\n",
            "Selecting previously unselected package python3-pip-whl.\n",
            "(Reading database ... 123623 files and directories currently installed.)\n",
            "Preparing to unpack .../python3-pip-whl_22.0.2+dfsg-1ubuntu0.5_all.deb ...\n",
            "Unpacking python3-pip-whl (22.0.2+dfsg-1ubuntu0.5) ...\n",
            "Selecting previously unselected package python3-setuptools-whl.\n",
            "Preparing to unpack .../python3-setuptools-whl_59.6.0-1.2ubuntu0.22.04.2_all.deb ...\n",
            "Unpacking python3-setuptools-whl (59.6.0-1.2ubuntu0.22.04.2) ...\n",
            "Selecting previously unselected package python3.10-venv.\n",
            "Preparing to unpack .../python3.10-venv_3.10.12-1~22.04.6_amd64.deb ...\n",
            "Unpacking python3.10-venv (3.10.12-1~22.04.6) ...\n",
            "Setting up python3-setuptools-whl (59.6.0-1.2ubuntu0.22.04.2) ...\n",
            "Setting up python3-pip-whl (22.0.2+dfsg-1ubuntu0.5) ...\n",
            "Setting up python3.10-venv (3.10.12-1~22.04.6) ...\n"
          ]
        }
      ],
      "source": [
        "!apt install python3.10-venv\n",
        "!python -m venv .venv\n",
        "!find \".venv\" -type f -exec sed -i -e 's/\\r$//' -e \"s|/home/runner/work/Applio/Applio|$(pwd)|g\" -e \"s|/.venv/bin/python|/.venv/bin/$(basename $(which python))|g\" {} +"
      ]
    },
    {
      "cell_type": "code",
      "source": [
        "!wget https://huggingface.co/IAHispano/Applio/resolve/main/Compiled/Linux/ApplioV3.2.6.zip"
      ],
      "metadata": {
        "colab": {
          "base_uri": "https://localhost:8080/"
        },
        "id": "KO75w7y1E9cO",
        "outputId": "c64a86b5-31b9-41a3-b820-3c649499af35"
      },
      "execution_count": 4,
      "outputs": [
        {
          "output_type": "stream",
          "name": "stdout",
          "text": [
            "--2024-11-08 04:43:15--  https://huggingface.co/IAHispano/Applio/resolve/main/Compiled/Linux/ApplioV3.2.6.zip\n",
            "Resolving huggingface.co (huggingface.co)... 18.164.174.17, 18.164.174.55, 18.164.174.23, ...\n",
            "Connecting to huggingface.co (huggingface.co)|18.164.174.17|:443... connected.\n",
            "HTTP request sent, awaiting response... 302 Found\n",
            "Location: https://cdn-lfs.hf.co/repos/93/d7/93d77ea38018ba5a3458db57a97bb2327e40e59ed29c31a078303f0e54739cf7/5ffca207f3ff91663bd8d58f783f4a8635f659c852c80a9ba202021fd5bfbf83?response-content-disposition=inline%3B+filename*%3DUTF-8%27%27ApplioV3.2.6.zip%3B+filename%3D%22ApplioV3.2.6.zip%22%3B&response-content-type=application%2Fzip&Expires=1731300195&Policy=eyJTdGF0ZW1lbnQiOlt7IkNvbmRpdGlvbiI6eyJEYXRlTGVzc1RoYW4iOnsiQVdTOkVwb2NoVGltZSI6MTczMTMwMDE5NX19LCJSZXNvdXJjZSI6Imh0dHBzOi8vY2RuLWxmcy5oZi5jby9yZXBvcy85My9kNy85M2Q3N2VhMzgwMThiYTVhMzQ1OGRiNTdhOTdiYjIzMjdlNDBlNTllZDI5YzMxYTA3ODMwM2YwZTU0NzM5Y2Y3LzVmZmNhMjA3ZjNmZjkxNjYzYmQ4ZDU4Zjc4M2Y0YTg2MzVmNjU5Yzg1MmM4MGE5YmEyMDIwMjFmZDViZmJmODM%7EcmVzcG9uc2UtY29udGVudC1kaXNwb3NpdGlvbj0qJnJlc3BvbnNlLWNvbnRlbnQtdHlwZT0qIn1dfQ__&Signature=HGdGNjQ%7EL25C2buVl2Av2-2ogo5P5Fw59T3rjyxqPxQ9llvMbvQysdtkTwlrwvEM0uRgyuUfwV3mBx88vU32BcYFDrUliQWyqYLLZ7RNBm8FVY%7EAE5sBXQGqoC-XaFFdUX8toV8XCkXLveRMkDim6BCjddho064KXg5LCvb21HZVyDeXmnwaX4PzA19IiIv0ryaDJ4ptyKYjwOHc7KYxmVb0WTceYh3hXuZuCiYPqYEPNEDC4qJFbD8dJYaTSCdVZUQPU-P78sLtp4LzDrBL1D%7EURPYqf85x90MJuLD2i3btZak-sIM8CnOVU%7Ex80F5i2vJgKD8k%7EotJXyeN3W7ZVw__&Key-Pair-Id=K3RPWS32NSSJCE [following]\n",
            "--2024-11-08 04:43:15--  https://cdn-lfs.hf.co/repos/93/d7/93d77ea38018ba5a3458db57a97bb2327e40e59ed29c31a078303f0e54739cf7/5ffca207f3ff91663bd8d58f783f4a8635f659c852c80a9ba202021fd5bfbf83?response-content-disposition=inline%3B+filename*%3DUTF-8%27%27ApplioV3.2.6.zip%3B+filename%3D%22ApplioV3.2.6.zip%22%3B&response-content-type=application%2Fzip&Expires=1731300195&Policy=eyJTdGF0ZW1lbnQiOlt7IkNvbmRpdGlvbiI6eyJEYXRlTGVzc1RoYW4iOnsiQVdTOkVwb2NoVGltZSI6MTczMTMwMDE5NX19LCJSZXNvdXJjZSI6Imh0dHBzOi8vY2RuLWxmcy5oZi5jby9yZXBvcy85My9kNy85M2Q3N2VhMzgwMThiYTVhMzQ1OGRiNTdhOTdiYjIzMjdlNDBlNTllZDI5YzMxYTA3ODMwM2YwZTU0NzM5Y2Y3LzVmZmNhMjA3ZjNmZjkxNjYzYmQ4ZDU4Zjc4M2Y0YTg2MzVmNjU5Yzg1MmM4MGE5YmEyMDIwMjFmZDViZmJmODM%7EcmVzcG9uc2UtY29udGVudC1kaXNwb3NpdGlvbj0qJnJlc3BvbnNlLWNvbnRlbnQtdHlwZT0qIn1dfQ__&Signature=HGdGNjQ%7EL25C2buVl2Av2-2ogo5P5Fw59T3rjyxqPxQ9llvMbvQysdtkTwlrwvEM0uRgyuUfwV3mBx88vU32BcYFDrUliQWyqYLLZ7RNBm8FVY%7EAE5sBXQGqoC-XaFFdUX8toV8XCkXLveRMkDim6BCjddho064KXg5LCvb21HZVyDeXmnwaX4PzA19IiIv0ryaDJ4ptyKYjwOHc7KYxmVb0WTceYh3hXuZuCiYPqYEPNEDC4qJFbD8dJYaTSCdVZUQPU-P78sLtp4LzDrBL1D%7EURPYqf85x90MJuLD2i3btZak-sIM8CnOVU%7Ex80F5i2vJgKD8k%7EotJXyeN3W7ZVw__&Key-Pair-Id=K3RPWS32NSSJCE\n",
            "Resolving cdn-lfs.hf.co (cdn-lfs.hf.co)... 3.168.132.25, 3.168.132.48, 3.168.132.99, ...\n",
            "Connecting to cdn-lfs.hf.co (cdn-lfs.hf.co)|3.168.132.25|:443... connected.\n",
            "HTTP request sent, awaiting response... 200 OK\n",
            "Length: 7541258849 (7.0G) [application/zip]\n",
            "Saving to: ‘ApplioV3.2.6.zip’\n",
            "\n",
            "ApplioV3.2.6.zip    100%[===================>]   7.02G  78.6MB/s    in 93s     \n",
            "\n",
            "2024-11-08 04:44:48 (77.5 MB/s) - ‘ApplioV3.2.6.zip’ saved [7541258849/7541258849]\n",
            "\n"
          ]
        }
      ]
    },
    {
      "cell_type": "code",
      "source": [
        "# !unzip ApplioV3.2.6.zip -d Applio"
      ],
      "metadata": {
        "id": "uqxMLxWuFv_z"
      },
      "execution_count": 6,
      "outputs": []
    },
    {
      "cell_type": "code",
      "source": [
        "import os\n",
        "os.chdir(\"Applio\")\n",
        "!chmod +x run-applio.sh\n",
        "!./run-applio.sh"
      ],
      "metadata": {
        "colab": {
          "base_uri": "https://localhost:8080/"
        },
        "id": "HE0e-qVgGdEw",
        "outputId": "b77d3b68-85a3-40fa-f595-33ea8e0e788c"
      },
      "execution_count": 10,
      "outputs": [
        {
          "output_type": "stream",
          "name": "stdout",
          "text": [
            "\u001b]0;Applio\u0007./run-applio.sh: 3: .: cannot open .venv/bin/activate: No such file\n"
          ]
        }
      ]
    }
  ],
  "metadata": {
    "accelerator": "GPU",
    "colab": {
      "gpuType": "T4",
      "provenance": [],
      "include_colab_link": true
    },
    "kernelspec": {
      "display_name": "Python 3",
      "name": "python3"
    },
    "language_info": {
      "name": "python"
    }
  },
  "nbformat": 4,
  "nbformat_minor": 0
}